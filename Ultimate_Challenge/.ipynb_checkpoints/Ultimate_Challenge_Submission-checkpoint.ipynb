{
 "cells": [
  {
   "cell_type": "code",
   "execution_count": 482,
   "metadata": {},
   "outputs": [],
   "source": [
    "import pandas as pd\n",
    "import numpy as np\n",
    "import matplotlib.pyplot as plt\n",
    "import json\n",
    "\n",
    "import statsmodels.api as sm\n",
    "import sklearn.model_selection\n",
    "from sklearn import preprocessing\n",
    "from sklearn.linear_model import LogisticRegression\n",
    "from sklearn.cross_validation import train_test_split\n",
    "from sklearn import model_selection\n",
    "#from sklearn.model_selection import cross_val_score\n",
    "from sklearn.metrics import confusion_matrix\n",
    "from sklearn.metrics import classification_report\n",
    "from sklearn.metrics import roc_auc_score\n",
    "from sklearn.metrics import roc_curve\n",
    "from sklearn.metrics import r2_score\n",
    "\n",
    "\n",
    "%matplotlib inline"
   ]
  },
  {
   "cell_type": "markdown",
   "metadata": {},
   "source": [
    "# Part 1 - Exploratory Data Analysis"
   ]
  },
  {
   "cell_type": "code",
   "execution_count": 483,
   "metadata": {},
   "outputs": [
    {
     "data": {
      "text/html": [
       "<div>\n",
       "<style>\n",
       "    .dataframe thead tr:only-child th {\n",
       "        text-align: right;\n",
       "    }\n",
       "\n",
       "    .dataframe thead th {\n",
       "        text-align: left;\n",
       "    }\n",
       "\n",
       "    .dataframe tbody tr th {\n",
       "        vertical-align: top;\n",
       "    }\n",
       "</style>\n",
       "<table border=\"1\" class=\"dataframe\">\n",
       "  <thead>\n",
       "    <tr style=\"text-align: right;\">\n",
       "      <th></th>\n",
       "      <th>login_time</th>\n",
       "    </tr>\n",
       "  </thead>\n",
       "  <tbody>\n",
       "    <tr>\n",
       "      <th>0</th>\n",
       "      <td>1970-01-01 20:13:18</td>\n",
       "    </tr>\n",
       "    <tr>\n",
       "      <th>1</th>\n",
       "      <td>1970-01-01 20:16:10</td>\n",
       "    </tr>\n",
       "    <tr>\n",
       "      <th>2</th>\n",
       "      <td>1970-01-01 20:16:37</td>\n",
       "    </tr>\n",
       "    <tr>\n",
       "      <th>3</th>\n",
       "      <td>1970-01-01 20:16:36</td>\n",
       "    </tr>\n",
       "    <tr>\n",
       "      <th>4</th>\n",
       "      <td>1970-01-01 20:26:21</td>\n",
       "    </tr>\n",
       "  </tbody>\n",
       "</table>\n",
       "</div>"
      ],
      "text/plain": [
       "           login_time\n",
       "0 1970-01-01 20:13:18\n",
       "1 1970-01-01 20:16:10\n",
       "2 1970-01-01 20:16:37\n",
       "3 1970-01-01 20:16:36\n",
       "4 1970-01-01 20:26:21"
      ]
     },
     "execution_count": 483,
     "metadata": {},
     "output_type": "execute_result"
    }
   ],
   "source": [
    "# read in json file\n",
    "logins_df = pd.read_json('logins.json', orient='columns')\n",
    "logins_df.head()"
   ]
  },
  {
   "cell_type": "code",
   "execution_count": 484,
   "metadata": {},
   "outputs": [
    {
     "data": {
      "text/plain": [
       "(93142, 1)"
      ]
     },
     "execution_count": 484,
     "metadata": {},
     "output_type": "execute_result"
    }
   ],
   "source": [
    "logins_df.shape"
   ]
  },
  {
   "cell_type": "code",
   "execution_count": 485,
   "metadata": {},
   "outputs": [
    {
     "data": {
      "text/html": [
       "<div>\n",
       "<style>\n",
       "    .dataframe thead tr:only-child th {\n",
       "        text-align: right;\n",
       "    }\n",
       "\n",
       "    .dataframe thead th {\n",
       "        text-align: left;\n",
       "    }\n",
       "\n",
       "    .dataframe tbody tr th {\n",
       "        vertical-align: top;\n",
       "    }\n",
       "</style>\n",
       "<table border=\"1\" class=\"dataframe\">\n",
       "  <thead>\n",
       "    <tr style=\"text-align: right;\">\n",
       "      <th></th>\n",
       "      <th>login_time</th>\n",
       "      <th>count</th>\n",
       "    </tr>\n",
       "  </thead>\n",
       "  <tbody>\n",
       "    <tr>\n",
       "      <th>0</th>\n",
       "      <td>1970-01-01 20:13:18</td>\n",
       "      <td>1</td>\n",
       "    </tr>\n",
       "    <tr>\n",
       "      <th>1</th>\n",
       "      <td>1970-01-01 20:16:10</td>\n",
       "      <td>1</td>\n",
       "    </tr>\n",
       "    <tr>\n",
       "      <th>2</th>\n",
       "      <td>1970-01-01 20:16:37</td>\n",
       "      <td>1</td>\n",
       "    </tr>\n",
       "    <tr>\n",
       "      <th>3</th>\n",
       "      <td>1970-01-01 20:16:36</td>\n",
       "      <td>1</td>\n",
       "    </tr>\n",
       "    <tr>\n",
       "      <th>4</th>\n",
       "      <td>1970-01-01 20:26:21</td>\n",
       "      <td>1</td>\n",
       "    </tr>\n",
       "  </tbody>\n",
       "</table>\n",
       "</div>"
      ],
      "text/plain": [
       "           login_time  count\n",
       "0 1970-01-01 20:13:18      1\n",
       "1 1970-01-01 20:16:10      1\n",
       "2 1970-01-01 20:16:37      1\n",
       "3 1970-01-01 20:16:36      1\n",
       "4 1970-01-01 20:26:21      1"
      ]
     },
     "execution_count": 485,
     "metadata": {},
     "output_type": "execute_result"
    }
   ],
   "source": [
    "logins_df['count'] = 1\n",
    "logins_df.head()"
   ]
  },
  {
   "cell_type": "code",
   "execution_count": 486,
   "metadata": {},
   "outputs": [
    {
     "data": {
      "text/html": [
       "<div>\n",
       "<style>\n",
       "    .dataframe thead tr:only-child th {\n",
       "        text-align: right;\n",
       "    }\n",
       "\n",
       "    .dataframe thead th {\n",
       "        text-align: left;\n",
       "    }\n",
       "\n",
       "    .dataframe tbody tr th {\n",
       "        vertical-align: top;\n",
       "    }\n",
       "</style>\n",
       "<table border=\"1\" class=\"dataframe\">\n",
       "  <thead>\n",
       "    <tr style=\"text-align: right;\">\n",
       "      <th></th>\n",
       "      <th>count</th>\n",
       "    </tr>\n",
       "    <tr>\n",
       "      <th>login_time</th>\n",
       "      <th></th>\n",
       "    </tr>\n",
       "  </thead>\n",
       "  <tbody>\n",
       "    <tr>\n",
       "      <th>1970-03-31</th>\n",
       "      <td>79635</td>\n",
       "    </tr>\n",
       "    <tr>\n",
       "      <th>1970-06-30</th>\n",
       "      <td>13507</td>\n",
       "    </tr>\n",
       "  </tbody>\n",
       "</table>\n",
       "</div>"
      ],
      "text/plain": [
       "            count\n",
       "login_time       \n",
       "1970-03-31  79635\n",
       "1970-06-30  13507"
      ]
     },
     "execution_count": 486,
     "metadata": {},
     "output_type": "execute_result"
    }
   ],
   "source": [
    "# resample for 15 min time intervals\n",
    "# also do for other time intervals\n",
    "logins_15min = logins_df.resample('15T', on='login_time').sum()\n",
    "logins_hrly = logins_df.resample('1H', on='login_time').sum()\n",
    "logins_daily = logins_df.resample('1D', on='login_time').sum()\n",
    "logins_weekly = logins_df.resample('W', on='login_time').sum()\n",
    "logins_monthly = logins_df.resample('1M', on='login_time').sum()\n",
    "logins_quarterly = logins_df.resample('1Q', on='login_time').sum()\n",
    "\n",
    "logins_quarterly\n",
    "# only 2 quarters of data available, so stick with 15 min, hourly, daily, and monthly intervals"
   ]
  },
  {
   "cell_type": "code",
   "execution_count": 487,
   "metadata": {},
   "outputs": [
    {
     "data": {
      "image/png": "[encoded data removed]",
      "text/plain": [
       "<matplotlib.figure.Figure at 0x1167def60>"
      ]
     },
     "metadata": {},
     "output_type": "display_data"
    }
   ],
   "source": [
    "login_intervals = [logins_15min, logins_hrly, logins_daily, logins_weekly, logins_monthly]\n",
    "login_intervals_titles = ['15 Minute Time Intervals', 'Hourly Time Intervals',\n",
    "                         'Daily Time Intervals', 'Weekly Time Intervals', 'Monthly Time Intervals']\n",
    "\n",
    "fig = plt.figure(figsize = (15,15))\n",
    "for i in range(len(login_intervals)):\n",
    "    ax = fig.add_subplot(3,2,i+1)\n",
    "    fig.subplots_adjust(hspace=.6, wspace = .3)\n",
    "    \n",
    "    plt.plot(login_intervals[i])\n",
    "    \n",
    "    ax.set_xlabel('Date/Time')\n",
    "    ax.set_ylabel('Count')\n",
    "    plt.xticks(rotation=50, size=8)\n",
    "    plt.yticks(size=8)\n",
    "    ax.set_title(login_intervals_titles[i])\n"
   ]
  },
  {
   "cell_type": "markdown",
   "metadata": {},
   "source": [
    "From the above plots, we can't really interpret anything from the 15 minute time interval and hourly time interval plots. There are too many data points so we'll need to find another way to visualize them. As for the other plots, there are some insights to be gained.\n",
    "\n",
    "For daily time intervals, we can see that there are daily drops in login activity. It would be useful to visualize which days of the week these drops are occurring. We can also see that over the weekly and monthly time intervals, login activity increased leading up to April but then dropped going into May. "
   ]
  },
  {
   "cell_type": "code",
   "execution_count": 488,
   "metadata": {},
   "outputs": [
    {
     "data": {
      "text/html": [
       "<div>\n",
       "<style>\n",
       "    .dataframe thead tr:only-child th {\n",
       "        text-align: right;\n",
       "    }\n",
       "\n",
       "    .dataframe thead th {\n",
       "        text-align: left;\n",
       "    }\n",
       "\n",
       "    .dataframe tbody tr th {\n",
       "        vertical-align: top;\n",
       "    }\n",
       "</style>\n",
       "<table border=\"1\" class=\"dataframe\">\n",
       "  <thead>\n",
       "    <tr style=\"text-align: right;\">\n",
       "      <th></th>\n",
       "      <th>count</th>\n",
       "    </tr>\n",
       "  </thead>\n",
       "  <tbody>\n",
       "    <tr>\n",
       "      <th>Mon</th>\n",
       "      <td>588.200000</td>\n",
       "    </tr>\n",
       "    <tr>\n",
       "      <th>Tue</th>\n",
       "      <td>662.000000</td>\n",
       "    </tr>\n",
       "    <tr>\n",
       "      <th>Wed</th>\n",
       "      <td>738.500000</td>\n",
       "    </tr>\n",
       "    <tr>\n",
       "      <th>Thu</th>\n",
       "      <td>797.333333</td>\n",
       "    </tr>\n",
       "    <tr>\n",
       "      <th>Fri</th>\n",
       "      <td>1013.866667</td>\n",
       "    </tr>\n",
       "    <tr>\n",
       "      <th>Sat</th>\n",
       "      <td>1291.800000</td>\n",
       "    </tr>\n",
       "    <tr>\n",
       "      <th>Sun</th>\n",
       "      <td>1211.133333</td>\n",
       "    </tr>\n",
       "  </tbody>\n",
       "</table>\n",
       "</div>"
      ],
      "text/plain": [
       "           count\n",
       "Mon   588.200000\n",
       "Tue   662.000000\n",
       "Wed   738.500000\n",
       "Thu   797.333333\n",
       "Fri  1013.866667\n",
       "Sat  1291.800000\n",
       "Sun  1211.133333"
      ]
     },
     "execution_count": 488,
     "metadata": {},
     "output_type": "execute_result"
    }
   ],
   "source": [
    "# extract day of week for each daily login\n",
    "logins_daily['day_of_week'] = logins_daily.index.weekday\n",
    "logins_daily.head(15)\n",
    "\n",
    "day_of_week_logins = logins_daily.groupby(['day_of_week']).mean()\n",
    "day_of_week_logins.index = ['Mon','Tue','Wed','Thu','Fri','Sat','Sun']\n",
    "day_of_week_logins"
   ]
  },
  {
   "cell_type": "code",
   "execution_count": 489,
   "metadata": {},
   "outputs": [
    {
     "data": {
      "text/html": [
       "<div>\n",
       "<style>\n",
       "    .dataframe thead tr:only-child th {\n",
       "        text-align: right;\n",
       "    }\n",
       "\n",
       "    .dataframe thead th {\n",
       "        text-align: left;\n",
       "    }\n",
       "\n",
       "    .dataframe tbody tr th {\n",
       "        vertical-align: top;\n",
       "    }\n",
       "</style>\n",
       "<table border=\"1\" class=\"dataframe\">\n",
       "  <thead>\n",
       "    <tr style=\"text-align: right;\">\n",
       "      <th></th>\n",
       "      <th>count</th>\n",
       "    </tr>\n",
       "    <tr>\n",
       "      <th>hour_of_day</th>\n",
       "      <th></th>\n",
       "    </tr>\n",
       "  </thead>\n",
       "  <tbody>\n",
       "    <tr>\n",
       "      <th>0</th>\n",
       "      <td>58.754902</td>\n",
       "    </tr>\n",
       "    <tr>\n",
       "      <th>1</th>\n",
       "      <td>61.931373</td>\n",
       "    </tr>\n",
       "    <tr>\n",
       "      <th>2</th>\n",
       "      <td>56.862745</td>\n",
       "    </tr>\n",
       "    <tr>\n",
       "      <th>3</th>\n",
       "      <td>47.362745</td>\n",
       "    </tr>\n",
       "    <tr>\n",
       "      <th>4</th>\n",
       "      <td>49.352941</td>\n",
       "    </tr>\n",
       "  </tbody>\n",
       "</table>\n",
       "</div>"
      ],
      "text/plain": [
       "                 count\n",
       "hour_of_day           \n",
       "0            58.754902\n",
       "1            61.931373\n",
       "2            56.862745\n",
       "3            47.362745\n",
       "4            49.352941"
      ]
     },
     "execution_count": 489,
     "metadata": {},
     "output_type": "execute_result"
    }
   ],
   "source": [
    "# extract day of week for each daily login\n",
    "logins_hrly['hour_of_day'] = logins_hrly.index.hour\n",
    "\n",
    "hour_of_day_logins = logins_hrly.groupby(['hour_of_day']).mean()\n",
    "hour_of_day_logins.head()"
   ]
  },
  {
   "cell_type": "code",
   "execution_count": 490,
   "metadata": {},
   "outputs": [
    {
     "data": {
      "text/plain": [
       "<matplotlib.figure.Figure at 0x1162dbbe0>"
      ]
     },
     "metadata": {},
     "output_type": "display_data"
    },
    {
     "data": {
      "image/png": "[encoded data removed]",
      "text/plain": [
       "<matplotlib.figure.Figure at 0x11b208f60>"
      ]
     },
     "metadata": {},
     "output_type": "display_data"
    }
   ],
   "source": [
    "# plot days of the week and totals\n",
    "fig = plt.figure(figsize=(8,6))\n",
    "fig = day_of_week_logins.plot(kind='bar')\n",
    "fig = plt.xticks(rotation=0)\n",
    "plt.xlabel('Day of Week')\n",
    "plt.ylabel('Average Daily Logins')\n",
    "plt.title('Average Login Activity for Days of Week')\n",
    "plt.show()"
   ]
  },
  {
   "cell_type": "markdown",
   "metadata": {},
   "source": [
    "We can see in this plot that login activity is higher on the weekends. What insights can we gain from a similar plot of hourly logins."
   ]
  },
  {
   "cell_type": "code",
   "execution_count": 491,
   "metadata": {},
   "outputs": [
    {
     "data": {
      "text/plain": [
       "<matplotlib.figure.Figure at 0x117c78a58>"
      ]
     },
     "metadata": {},
     "output_type": "display_data"
    },
    {
     "data": {
      "image/png": "[encoded data removed]",
      "text/plain": [
       "<matplotlib.figure.Figure at 0x123ee30f0>"
      ]
     },
     "metadata": {},
     "output_type": "display_data"
    }
   ],
   "source": [
    "# plot hours of the day and averages\n",
    "fig = plt.figure(figsize=(15,30))\n",
    "fig = hour_of_day_logins.plot(kind='bar')\n",
    "fig = plt.xticks(rotation=0)\n",
    "fig = plt.xlabel('Hour of the Day')\n",
    "fig = plt.ylabel('Average Logins per Hour')\n",
    "fig = plt.title('Average Login Activity per Hour of the Day')\n",
    "plt.show()"
   ]
  },
  {
   "cell_type": "markdown",
   "metadata": {},
   "source": [
    "In this plot, we can see that the fewest logins occur in the early hours of the morning (between 6:00am to 9:00am). Logins seem to peak both in the late morning / early afternoon as well as late at night."
   ]
  },
  {
   "cell_type": "markdown",
   "metadata": {},
   "source": [
    "# Part 2 - Experiment and Metrics Design"
   ]
  },
  {
   "cell_type": "markdown",
   "metadata": {},
   "source": [
    "The circadian rhythms of the two cities lead me to believe that Ultimate Gotham is where people live and Ultimate Metropolis is where people work. We are also under the assumption that the toll is active 24/7. "
   ]
  },
  {
   "cell_type": "markdown",
   "metadata": {},
   "source": [
    "### Q1\n",
    "\n",
    "I would choose total time spent driving (or total activity) as a measure of success. Right now, we would assume that drivers that stay in Ultimate Gotham are mostly active at night and drivers in Ultimate Metropolis are mostly active during the day. If drivers are driving in both cities, their overall time spent driving customers should be higher. \n",
    "\n",
    "The problem with the reimbursing tolls experiment is that both cities will now have more supply but still just as much demand. If either city was lacking in supply before, then reimbursing tolls is a good move since now more supply will fulfill the high demand. But if drivers are simply just driving fewer customers around because there is a larger pool of drivers to choose from (too much supply), the drivers themselves might actually be driving less than they were before."
   ]
  },
  {
   "cell_type": "markdown",
   "metadata": {},
   "source": [
    "### Q2\n",
    "\n",
    "To test if there's a statistically significant difference in activity, I would perform a test to see if the daily driving activity increases or decreases significantly with the toll reimbursement in place. The driving activity would have to be a percentage. Essentially the time spent actually driving and the time spent waiting for a ride to be given to them. I assume that drivers aren't driving 24 hours a day, so for example if they're available to drive for 10 hours a day but only end up driving customers for 7 of those 10 hours, their driving activity would be 70%.\n",
    "\n",
    "I would have my test group be of a set of drivers who are given the reimbursement, while others are not. To perform a z-test (need n>30), we would have over 30 drivers who are given the reimbursement and then another set of drivers (likely more than those that are given the reimbursement) without the reimbursement. The following would be our hypotheses for the experiment:\n",
    "\n",
    "$H_0$: The mean activity (%) for the reimbursement group is equal to the mean activity (%) for the non-reimbursement group\n",
    "\n",
    "\n",
    "$H_A$: The mean activity (%) for the reimbursement group is not equal to the mean activity (%) for the non-reimbursement group\n",
    "\n",
    "This would be a two sided test since we want to know if the activity increases or decreases. We would compute the z-statistic for the test group and compare it to z-critical by calculating the p value. If we're testing on a 95% level, we reject the null hypothesis if the p-value is less than 0.05. If we reject the null hypothesis, we accept the alternative hypothesis that there is a statistically significant difference in driver activity when provided with the toll reimbursement. \n",
    "\n",
    "If the mean activity for the reimbursement group is less than z-critical, it means that reimbursing the tolls actually significantly decreases driver activity and we should not provide the reimbursement. If the mean activity for the reimbursement group is greater than z-critical, it means that reimbursing the tolls significantly increases driver activity. If this is the case, the Ultimate managers should consider reimbursing all tolls for drivers. We have to keep in mind though that there could be a balance between driver demand and driver supply. We only took a test sample, but there could be a big difference in demand and activity when all drivers are provided with the reimbursement. We could test multiple sample sizes to see how many drivers should be given the reimbursement to make sure that we're optimizing driver activity."
   ]
  },
  {
   "cell_type": "markdown",
   "metadata": {},
   "source": [
    "# Part 3 - Predictive Modeling"
   ]
  },
  {
   "cell_type": "code",
   "execution_count": 492,
   "metadata": {},
   "outputs": [
    {
     "data": {
      "text/html": [
       "<div>\n",
       "<style>\n",
       "    .dataframe thead tr:only-child th {\n",
       "        text-align: right;\n",
       "    }\n",
       "\n",
       "    .dataframe thead th {\n",
       "        text-align: left;\n",
       "    }\n",
       "\n",
       "    .dataframe tbody tr th {\n",
       "        vertical-align: top;\n",
       "    }\n",
       "</style>\n",
       "<table border=\"1\" class=\"dataframe\">\n",
       "  <thead>\n",
       "    <tr style=\"text-align: right;\">\n",
       "      <th></th>\n",
       "      <th>avg_dist</th>\n",
       "      <th>avg_rating_by_driver</th>\n",
       "      <th>avg_rating_of_driver</th>\n",
       "      <th>avg_surge</th>\n",
       "      <th>city</th>\n",
       "      <th>last_trip_date</th>\n",
       "      <th>phone</th>\n",
       "      <th>signup_date</th>\n",
       "      <th>surge_pct</th>\n",
       "      <th>trips_in_first_30_days</th>\n",
       "      <th>ultimate_black_user</th>\n",
       "      <th>weekday_pct</th>\n",
       "    </tr>\n",
       "  </thead>\n",
       "  <tbody>\n",
       "    <tr>\n",
       "      <th>0</th>\n",
       "      <td>3.67</td>\n",
       "      <td>5.0</td>\n",
       "      <td>4.7</td>\n",
       "      <td>1.10</td>\n",
       "      <td>King's Landing</td>\n",
       "      <td>2014-06-17</td>\n",
       "      <td>iPhone</td>\n",
       "      <td>2014-01-25</td>\n",
       "      <td>15.4</td>\n",
       "      <td>4</td>\n",
       "      <td>True</td>\n",
       "      <td>46.2</td>\n",
       "    </tr>\n",
       "    <tr>\n",
       "      <th>1</th>\n",
       "      <td>8.26</td>\n",
       "      <td>5.0</td>\n",
       "      <td>5.0</td>\n",
       "      <td>1.00</td>\n",
       "      <td>Astapor</td>\n",
       "      <td>2014-05-05</td>\n",
       "      <td>Android</td>\n",
       "      <td>2014-01-29</td>\n",
       "      <td>0.0</td>\n",
       "      <td>0</td>\n",
       "      <td>False</td>\n",
       "      <td>50.0</td>\n",
       "    </tr>\n",
       "    <tr>\n",
       "      <th>2</th>\n",
       "      <td>0.77</td>\n",
       "      <td>5.0</td>\n",
       "      <td>4.3</td>\n",
       "      <td>1.00</td>\n",
       "      <td>Astapor</td>\n",
       "      <td>2014-01-07</td>\n",
       "      <td>iPhone</td>\n",
       "      <td>2014-01-06</td>\n",
       "      <td>0.0</td>\n",
       "      <td>3</td>\n",
       "      <td>False</td>\n",
       "      <td>100.0</td>\n",
       "    </tr>\n",
       "    <tr>\n",
       "      <th>3</th>\n",
       "      <td>2.36</td>\n",
       "      <td>4.9</td>\n",
       "      <td>4.6</td>\n",
       "      <td>1.14</td>\n",
       "      <td>King's Landing</td>\n",
       "      <td>2014-06-29</td>\n",
       "      <td>iPhone</td>\n",
       "      <td>2014-01-10</td>\n",
       "      <td>20.0</td>\n",
       "      <td>9</td>\n",
       "      <td>True</td>\n",
       "      <td>80.0</td>\n",
       "    </tr>\n",
       "    <tr>\n",
       "      <th>4</th>\n",
       "      <td>3.13</td>\n",
       "      <td>4.9</td>\n",
       "      <td>4.4</td>\n",
       "      <td>1.19</td>\n",
       "      <td>Winterfell</td>\n",
       "      <td>2014-03-15</td>\n",
       "      <td>Android</td>\n",
       "      <td>2014-01-27</td>\n",
       "      <td>11.8</td>\n",
       "      <td>14</td>\n",
       "      <td>False</td>\n",
       "      <td>82.4</td>\n",
       "    </tr>\n",
       "  </tbody>\n",
       "</table>\n",
       "</div>"
      ],
      "text/plain": [
       "   avg_dist  avg_rating_by_driver  avg_rating_of_driver  avg_surge  \\\n",
       "0      3.67                   5.0                   4.7       1.10   \n",
       "1      8.26                   5.0                   5.0       1.00   \n",
       "2      0.77                   5.0                   4.3       1.00   \n",
       "3      2.36                   4.9                   4.6       1.14   \n",
       "4      3.13                   4.9                   4.4       1.19   \n",
       "\n",
       "             city last_trip_date    phone signup_date  surge_pct  \\\n",
       "0  King's Landing     2014-06-17   iPhone  2014-01-25       15.4   \n",
       "1         Astapor     2014-05-05  Android  2014-01-29        0.0   \n",
       "2         Astapor     2014-01-07   iPhone  2014-01-06        0.0   \n",
       "3  King's Landing     2014-06-29   iPhone  2014-01-10       20.0   \n",
       "4      Winterfell     2014-03-15  Android  2014-01-27       11.8   \n",
       "\n",
       "   trips_in_first_30_days  ultimate_black_user  weekday_pct  \n",
       "0                       4                 True         46.2  \n",
       "1                       0                False         50.0  \n",
       "2                       3                False        100.0  \n",
       "3                       9                 True         80.0  \n",
       "4                      14                False         82.4  "
      ]
     },
     "execution_count": 492,
     "metadata": {},
     "output_type": "execute_result"
    }
   ],
   "source": [
    "# load json and convert to dataframe\n",
    "with open('ultimate_data_challenge.json') as f:\n",
    "    data = json.load(f)\n",
    "    \n",
    "usercohort_df = pd.DataFrame(data)\n",
    "usercohort_df.head()"
   ]
  },
  {
   "cell_type": "code",
   "execution_count": 493,
   "metadata": {},
   "outputs": [
    {
     "data": {
      "text/plain": [
       "(50000, 12)"
      ]
     },
     "execution_count": 493,
     "metadata": {},
     "output_type": "execute_result"
    }
   ],
   "source": [
    "usercohort_df.shape"
   ]
  },
  {
   "cell_type": "code",
   "execution_count": 494,
   "metadata": {},
   "outputs": [
    {
     "name": "stdout",
     "output_type": "stream",
     "text": [
      "<class 'pandas.core.frame.DataFrame'>\n",
      "RangeIndex: 50000 entries, 0 to 49999\n",
      "Data columns (total 12 columns):\n",
      "avg_dist                  50000 non-null float64\n",
      "avg_rating_by_driver      49799 non-null float64\n",
      "avg_rating_of_driver      41878 non-null float64\n",
      "avg_surge                 50000 non-null float64\n",
      "city                      50000 non-null object\n",
      "last_trip_date            50000 non-null object\n",
      "phone                     49604 non-null object\n",
      "signup_date               50000 non-null object\n",
      "surge_pct                 50000 non-null float64\n",
      "trips_in_first_30_days    50000 non-null int64\n",
      "ultimate_black_user       50000 non-null bool\n",
      "weekday_pct               50000 non-null float64\n",
      "dtypes: bool(1), float64(6), int64(1), object(4)\n",
      "memory usage: 4.2+ MB\n"
     ]
    }
   ],
   "source": [
    "usercohort_df.info()"
   ]
  },
  {
   "cell_type": "markdown",
   "metadata": {},
   "source": [
    "### Cleaning & EDA"
   ]
  },
  {
   "cell_type": "code",
   "execution_count": 495,
   "metadata": {},
   "outputs": [
    {
     "name": "stdout",
     "output_type": "stream",
     "text": [
      "Mean for avg_rating_by_driver: 4.778\n",
      "Mean for avg_rating_of_driver: 4.602\n",
      "\n",
      "phone:\n",
      "iPhone     34582\n",
      "Android    15022\n",
      "Name: phone, dtype: int64\n"
     ]
    }
   ],
   "source": [
    "# we have null values in avg_rating_by_driver, avg_rating_of_driver, and phone\n",
    "# figure out what to fill null values with\n",
    "\n",
    "print('Mean for avg_rating_by_driver:', round(usercohort_df['avg_rating_by_driver'].mean(),3))\n",
    "print('Mean for avg_rating_of_driver:', round(usercohort_df['avg_rating_of_driver'].mean(),3))\n",
    "\n",
    "# we have 50,000 users in this cohort (which is a lot), so we're going to assume that\n",
    "# it's reasonable to fill the null values with the averages for all the users\n",
    "\n",
    "usercohort_df['avg_rating_by_driver'].fillna(usercohort_df['avg_rating_by_driver'].mean(), inplace=True)\n",
    "usercohort_df['avg_rating_of_driver'].fillna(usercohort_df['avg_rating_of_driver'].mean(), inplace=True)\n",
    "print()\n",
    "\n",
    "# phone is a categorical attribute. Let's see what the categories are.\n",
    "print('phone:')\n",
    "print(usercohort_df['phone'].value_counts())\n",
    "\n",
    "# the majority of our users use iphones, so assume that are null values are iphones\n",
    "usercohort_df['phone'].fillna('iPhone', inplace=True)"
   ]
  },
  {
   "cell_type": "code",
   "execution_count": 496,
   "metadata": {},
   "outputs": [
    {
     "name": "stdout",
     "output_type": "stream",
     "text": [
      "<class 'pandas.core.frame.DataFrame'>\n",
      "RangeIndex: 50000 entries, 0 to 49999\n",
      "Data columns (total 12 columns):\n",
      "avg_dist                  50000 non-null float64\n",
      "avg_rating_by_driver      50000 non-null float64\n",
      "avg_rating_of_driver      50000 non-null float64\n",
      "avg_surge                 50000 non-null float64\n",
      "city                      50000 non-null object\n",
      "last_trip_date            50000 non-null object\n",
      "phone                     50000 non-null object\n",
      "signup_date               50000 non-null object\n",
      "surge_pct                 50000 non-null float64\n",
      "trips_in_first_30_days    50000 non-null int64\n",
      "ultimate_black_user       50000 non-null bool\n",
      "weekday_pct               50000 non-null float64\n",
      "dtypes: bool(1), float64(6), int64(1), object(4)\n",
      "memory usage: 4.2+ MB\n"
     ]
    }
   ],
   "source": [
    "# check null values\n",
    "usercohort_df.info()"
   ]
  },
  {
   "cell_type": "code",
   "execution_count": 497,
   "metadata": {},
   "outputs": [
    {
     "name": "stdout",
     "output_type": "stream",
     "text": [
      "last_trip_date: False\n",
      "signup_date: False\n"
     ]
    }
   ],
   "source": [
    "# check if last_trip_date and signup_date are datetime objects\n",
    "print('last_trip_date:', isinstance(usercohort_df['last_trip_date'], pd.DatetimeIndex))\n",
    "print('signup_date:', isinstance(usercohort_df['signup_date'], pd.DatetimeIndex))\n",
    "\n",
    "# convert them to datetime objects\n",
    "usercohort_df['last_trip_date'] = pd.to_datetime(usercohort_df['last_trip_date'])\n",
    "usercohort_df['signup_date'] = pd.to_datetime(usercohort_df['signup_date'])"
   ]
  },
  {
   "cell_type": "code",
   "execution_count": 498,
   "metadata": {
    "collapsed": true
   },
   "outputs": [],
   "source": [
    "# convert categorical data to type category\n",
    "usercohort_df['city'] = usercohort_df['city'].astype('category')\n",
    "usercohort_df['phone'] = usercohort_df['phone'].astype('category')"
   ]
  },
  {
   "cell_type": "code",
   "execution_count": 499,
   "metadata": {},
   "outputs": [
    {
     "name": "stdout",
     "output_type": "stream",
     "text": [
      "<class 'pandas.core.frame.DataFrame'>\n",
      "RangeIndex: 50000 entries, 0 to 49999\n",
      "Data columns (total 12 columns):\n",
      "avg_dist                  50000 non-null float64\n",
      "avg_rating_by_driver      50000 non-null float64\n",
      "avg_rating_of_driver      50000 non-null float64\n",
      "avg_surge                 50000 non-null float64\n",
      "city                      50000 non-null category\n",
      "last_trip_date            50000 non-null datetime64[ns]\n",
      "phone                     50000 non-null category\n",
      "signup_date               50000 non-null datetime64[ns]\n",
      "surge_pct                 50000 non-null float64\n",
      "trips_in_first_30_days    50000 non-null int64\n",
      "ultimate_black_user       50000 non-null bool\n",
      "weekday_pct               50000 non-null float64\n",
      "dtypes: bool(1), category(2), datetime64[ns](2), float64(6), int64(1)\n",
      "memory usage: 3.6 MB\n"
     ]
    }
   ],
   "source": [
    "usercohort_df.info()"
   ]
  },
  {
   "cell_type": "code",
   "execution_count": 500,
   "metadata": {},
   "outputs": [],
   "source": [
    "# add a column that tells us if a user is 'active'\n",
    "\n",
    "def make_active(trips_in_first_30_days):\n",
    "    if trips_in_first_30_days > 0:\n",
    "        return 1\n",
    "    else:\n",
    "        return 0\n",
    "\n",
    "# apply make_active function\n",
    "usercohort_df['active'] = usercohort_df['trips_in_first_30_days'].apply(make_active)"
   ]
  },
  {
   "cell_type": "code",
   "execution_count": 501,
   "metadata": {},
   "outputs": [
    {
     "data": {
      "text/html": [
       "<div>\n",
       "<style>\n",
       "    .dataframe thead tr:only-child th {\n",
       "        text-align: right;\n",
       "    }\n",
       "\n",
       "    .dataframe thead th {\n",
       "        text-align: left;\n",
       "    }\n",
       "\n",
       "    .dataframe tbody tr th {\n",
       "        vertical-align: top;\n",
       "    }\n",
       "</style>\n",
       "<table border=\"1\" class=\"dataframe\">\n",
       "  <thead>\n",
       "    <tr style=\"text-align: right;\">\n",
       "      <th></th>\n",
       "      <th>avg_dist</th>\n",
       "      <th>avg_rating_by_driver</th>\n",
       "      <th>avg_rating_of_driver</th>\n",
       "      <th>avg_surge</th>\n",
       "      <th>city</th>\n",
       "      <th>last_trip_date</th>\n",
       "      <th>phone</th>\n",
       "      <th>signup_date</th>\n",
       "      <th>surge_pct</th>\n",
       "      <th>trips_in_first_30_days</th>\n",
       "      <th>ultimate_black_user</th>\n",
       "      <th>weekday_pct</th>\n",
       "      <th>active</th>\n",
       "    </tr>\n",
       "  </thead>\n",
       "  <tbody>\n",
       "    <tr>\n",
       "      <th>0</th>\n",
       "      <td>3.67</td>\n",
       "      <td>5.0</td>\n",
       "      <td>4.7</td>\n",
       "      <td>1.10</td>\n",
       "      <td>King's Landing</td>\n",
       "      <td>2014-06-17</td>\n",
       "      <td>iPhone</td>\n",
       "      <td>2014-01-25</td>\n",
       "      <td>15.4</td>\n",
       "      <td>4</td>\n",
       "      <td>True</td>\n",
       "      <td>46.2</td>\n",
       "      <td>1</td>\n",
       "    </tr>\n",
       "    <tr>\n",
       "      <th>2</th>\n",
       "      <td>0.77</td>\n",
       "      <td>5.0</td>\n",
       "      <td>4.3</td>\n",
       "      <td>1.00</td>\n",
       "      <td>Astapor</td>\n",
       "      <td>2014-01-07</td>\n",
       "      <td>iPhone</td>\n",
       "      <td>2014-01-06</td>\n",
       "      <td>0.0</td>\n",
       "      <td>3</td>\n",
       "      <td>False</td>\n",
       "      <td>100.0</td>\n",
       "      <td>1</td>\n",
       "    </tr>\n",
       "    <tr>\n",
       "      <th>3</th>\n",
       "      <td>2.36</td>\n",
       "      <td>4.9</td>\n",
       "      <td>4.6</td>\n",
       "      <td>1.14</td>\n",
       "      <td>King's Landing</td>\n",
       "      <td>2014-06-29</td>\n",
       "      <td>iPhone</td>\n",
       "      <td>2014-01-10</td>\n",
       "      <td>20.0</td>\n",
       "      <td>9</td>\n",
       "      <td>True</td>\n",
       "      <td>80.0</td>\n",
       "      <td>1</td>\n",
       "    </tr>\n",
       "    <tr>\n",
       "      <th>4</th>\n",
       "      <td>3.13</td>\n",
       "      <td>4.9</td>\n",
       "      <td>4.4</td>\n",
       "      <td>1.19</td>\n",
       "      <td>Winterfell</td>\n",
       "      <td>2014-03-15</td>\n",
       "      <td>Android</td>\n",
       "      <td>2014-01-27</td>\n",
       "      <td>11.8</td>\n",
       "      <td>14</td>\n",
       "      <td>False</td>\n",
       "      <td>82.4</td>\n",
       "      <td>1</td>\n",
       "    </tr>\n",
       "    <tr>\n",
       "      <th>5</th>\n",
       "      <td>10.56</td>\n",
       "      <td>5.0</td>\n",
       "      <td>3.5</td>\n",
       "      <td>1.00</td>\n",
       "      <td>Winterfell</td>\n",
       "      <td>2014-06-06</td>\n",
       "      <td>iPhone</td>\n",
       "      <td>2014-01-09</td>\n",
       "      <td>0.0</td>\n",
       "      <td>2</td>\n",
       "      <td>True</td>\n",
       "      <td>100.0</td>\n",
       "      <td>1</td>\n",
       "    </tr>\n",
       "  </tbody>\n",
       "</table>\n",
       "</div>"
      ],
      "text/plain": [
       "   avg_dist  avg_rating_by_driver  avg_rating_of_driver  avg_surge  \\\n",
       "0      3.67                   5.0                   4.7       1.10   \n",
       "2      0.77                   5.0                   4.3       1.00   \n",
       "3      2.36                   4.9                   4.6       1.14   \n",
       "4      3.13                   4.9                   4.4       1.19   \n",
       "5     10.56                   5.0                   3.5       1.00   \n",
       "\n",
       "             city last_trip_date    phone signup_date  surge_pct  \\\n",
       "0  King's Landing     2014-06-17   iPhone  2014-01-25       15.4   \n",
       "2         Astapor     2014-01-07   iPhone  2014-01-06        0.0   \n",
       "3  King's Landing     2014-06-29   iPhone  2014-01-10       20.0   \n",
       "4      Winterfell     2014-03-15  Android  2014-01-27       11.8   \n",
       "5      Winterfell     2014-06-06   iPhone  2014-01-09        0.0   \n",
       "\n",
       "   trips_in_first_30_days  ultimate_black_user  weekday_pct  active  \n",
       "0                       4                 True         46.2       1  \n",
       "2                       3                False        100.0       1  \n",
       "3                       9                 True         80.0       1  \n",
       "4                      14                False         82.4       1  \n",
       "5                       2                 True        100.0       1  "
      ]
     },
     "execution_count": 501,
     "metadata": {},
     "output_type": "execute_result"
    }
   ],
   "source": [
    "usercohort_df.loc[usercohort_df['active'] == 1].head()"
   ]
  },
  {
   "cell_type": "code",
   "execution_count": 502,
   "metadata": {},
   "outputs": [
    {
     "name": "stdout",
     "output_type": "stream",
     "text": [
      "Fraction Retained (%): 69.22\n"
     ]
    }
   ],
   "source": [
    "# calculate fraction of observed users that were retained\n",
    "fraction_retained = usercohort_df['active'].sum() / usercohort_df['active'].count()\n",
    "\n",
    "print('Fraction Retained (%):', fraction_retained*100)"
   ]
  },
  {
   "cell_type": "code",
   "execution_count": 503,
   "metadata": {},
   "outputs": [
    {
     "name": "stdout",
     "output_type": "stream",
     "text": [
      "1 = retained in frist 30 days, 0 = non-retained in first 30 days:\n",
      "1    34610\n",
      "0    15390\n",
      "Name: active, dtype: int64\n"
     ]
    }
   ],
   "source": [
    "# display retained users vs. non-retained users\n",
    "print('1 = retained in frist 30 days, 0 = non-retained in first 30 days:')\n",
    "print(usercohort_df['active'].value_counts())"
   ]
  },
  {
   "cell_type": "code",
   "execution_count": 504,
   "metadata": {},
   "outputs": [
    {
     "data": {
      "image/png": "[encoded data removed]",
      "text/plain": [
       "<matplotlib.figure.Figure at 0x10feb2358>"
      ]
     },
     "metadata": {},
     "output_type": "display_data"
    }
   ],
   "source": [
    "# display which cities users are retained\n",
    "fig = plt.figure(figsize=(8,6))\n",
    "fig = usercohort_df['active'].value_counts().plot(kind='bar')\n",
    "fig.set_xlabel('1 = Retained, 0 = Not Retained')\n",
    "fig.set_ylabel('Number of Users')\n",
    "fig.set_title('User Retainment')\n",
    "fig = plt.xticks(rotation=0)\n",
    "plt.show()"
   ]
  },
  {
   "cell_type": "code",
   "execution_count": 505,
   "metadata": {},
   "outputs": [
    {
     "data": {
      "image/png": "[encoded data removed]",
      "text/plain": [
       "<matplotlib.figure.Figure at 0x118860be0>"
      ]
     },
     "metadata": {},
     "output_type": "display_data"
    }
   ],
   "source": [
    "# display which cities users in this cohort are from\n",
    "fig = plt.figure(figsize=(8,6))\n",
    "fig = usercohort_df['city'].value_counts().plot(kind='bar')\n",
    "fig.set_xlabel('City')\n",
    "fig.set_ylabel('Users Signed up in Cohort')\n",
    "fig.set_title('Number of Users from Cohort In Each City')\n",
    "fig = plt.xticks(rotation=0)\n",
    "plt.show()"
   ]
  },
  {
   "cell_type": "markdown",
   "metadata": {},
   "source": [
    "Most of the users from this cohort are from Winterfell and the fewest are from King's Landing."
   ]
  },
  {
   "cell_type": "code",
   "execution_count": 506,
   "metadata": {},
   "outputs": [
    {
     "data": {
      "image/png": "[encoded data removed]",
      "text/plain": [
       "<matplotlib.figure.Figure at 0x12449b208>"
      ]
     },
     "metadata": {},
     "output_type": "display_data"
    }
   ],
   "source": [
    "# display which phones users in this cohort use\n",
    "fig = plt.figure(figsize=(8,6))\n",
    "fig = usercohort_df['phone'].value_counts().plot(kind='bar')\n",
    "fig.set_xlabel('phone')\n",
    "fig.set_ylabel('Users With Phone in Cohort')\n",
    "fig.set_title('Number of Users from Cohort with Phone')\n",
    "fig = plt.xticks(rotation=0)\n",
    "plt.show()"
   ]
  },
  {
   "cell_type": "markdown",
   "metadata": {},
   "source": [
    "The majority of users from this cohort use iPhones over Androids."
   ]
  },
  {
   "cell_type": "code",
   "execution_count": 507,
   "metadata": {},
   "outputs": [
    {
     "data": {
      "image/png": "[encoded data removed]",
      "text/plain": [
       "<matplotlib.figure.Figure at 0x118860cf8>"
      ]
     },
     "metadata": {},
     "output_type": "display_data"
    }
   ],
   "source": [
    "# plot a histogram of average rating by driver\n",
    "fig = plt.figure(figsize=(8,6))\n",
    "fig = plt.hist(usercohort_df['avg_rating_by_driver'], bins=30)\n",
    "plt.xlabel('User Average Rating')\n",
    "plt.ylabel('Total Users')\n",
    "plt.title('Histogram of Users and their Average Rating by Drivers')\n",
    "plt.show()"
   ]
  },
  {
   "cell_type": "markdown",
   "metadata": {},
   "source": [
    "Most of the users from this cohort have ratings above 4.5"
   ]
  },
  {
   "cell_type": "code",
   "execution_count": 508,
   "metadata": {},
   "outputs": [
    {
     "data": {
      "image/png": "[encoded data removed]",
      "text/plain": [
       "<matplotlib.figure.Figure at 0x118f19d30>"
      ]
     },
     "metadata": {},
     "output_type": "display_data"
    }
   ],
   "source": [
    "# plot a histogram of average rating of driver\n",
    "fig = plt.figure(figsize=(8,6))\n",
    "fig = plt.hist(usercohort_df['avg_rating_of_driver'], bins=30)\n",
    "plt.xlabel('User Average Rating of Driver')\n",
    "plt.ylabel('Total Users')\n",
    "plt.title('Histogram of Users and their Average Rating of Drivers')\n",
    "plt.show()"
   ]
  },
  {
   "cell_type": "markdown",
   "metadata": {},
   "source": [
    "Users tend to give drivers high ratings, but not as high of ratings as drivers give them."
   ]
  },
  {
   "cell_type": "code",
   "execution_count": 509,
   "metadata": {},
   "outputs": [
    {
     "data": {
      "image/png": "[encoded data removed]",
      "text/plain": [
       "<matplotlib.figure.Figure at 0x121241a20>"
      ]
     },
     "metadata": {},
     "output_type": "display_data"
    }
   ],
   "source": [
    "# display which users are ultimate black users\n",
    "fig = plt.figure(figsize=(8,6))\n",
    "fig = usercohort_df['ultimate_black_user'].value_counts().plot(kind='bar')\n",
    "fig.set_xlabel('Ultimate Black User')\n",
    "fig.set_ylabel('Number of Users')\n",
    "fig.set_title('Number of Ultimate Black Users')\n",
    "fig = plt.xticks(rotation=0)\n",
    "plt.show()"
   ]
  },
  {
   "cell_type": "markdown",
   "metadata": {},
   "source": [
    "There are clearly more users that don't user ultimate black than do."
   ]
  },
  {
   "cell_type": "markdown",
   "metadata": {},
   "source": [
    "### Predictive Model"
   ]
  },
  {
   "cell_type": "code",
   "execution_count": 510,
   "metadata": {},
   "outputs": [],
   "source": [
    "# extract month of most recent activity for each user\n",
    "usercohort_df['last_trip_month'] = usercohort_df['last_trip_date'].dt.month\n",
    "\n",
    "# add a column that tells us if a user is active in their 6th month\n",
    "\n",
    "def sixmo_active(last_trip_month):\n",
    "    if last_trip_month == 6:\n",
    "        return 1\n",
    "    else:\n",
    "        return 0\n",
    "\n",
    "# apply sixmo_active function\n",
    "usercohort_df['active_sixmo'] = usercohort_df['last_trip_month'].apply(sixmo_active)"
   ]
  },
  {
   "cell_type": "markdown",
   "metadata": {},
   "source": [
    "We are attempting to classify if a user will be active or not in 6 months, so we need to implement a classification algorithm. I will perform a logistic regression, but other options would have been a random forest or SVM. \n",
    "\n",
    "We will split the data into training and testing data to build a classifier. We will train our classifier on the training data and then test its accuracy on the test data"
   ]
  },
  {
   "cell_type": "code",
   "execution_count": 511,
   "metadata": {},
   "outputs": [],
   "source": [
    "# extract data for logistic regression\n",
    "# ignore city, phone, and ultimate_black_user categorical data\n",
    "y = usercohort_df['active_sixmo']\n",
    "X = usercohort_df.loc[:,['avg_dist', 'avg_rating_by_driver', 'avg_rating_of_driver', 'avg_surge',\n",
    "       'surge_pct', 'trips_in_first_30_days', 'weekday_pct',\n",
    "       'active']]"
   ]
  },
  {
   "cell_type": "code",
   "execution_count": 512,
   "metadata": {},
   "outputs": [
    {
     "name": "stdout",
     "output_type": "stream",
     "text": [
      "Optimization terminated successfully.\n",
      "         Current function value: 0.630779\n",
      "         Iterations 6\n",
      "                           Logit Regression Results                           \n",
      "==============================================================================\n",
      "Dep. Variable:           active_sixmo   No. Observations:                50000\n",
      "Model:                          Logit   Df Residuals:                    49992\n",
      "Method:                           MLE   Df Model:                            7\n",
      "Date:                Mon, 19 Feb 2018   Pseudo R-squ.:                 0.03890\n",
      "Time:                        22:29:23   Log-Likelihood:                -31539.\n",
      "converged:                       True   LL-Null:                       -32815.\n",
      "                                        LLR p-value:                     0.000\n",
      "==========================================================================================\n",
      "                             coef    std err          z      P>|z|      [0.025      0.975]\n",
      "------------------------------------------------------------------------------------------\n",
      "avg_dist                  -0.0242      0.002    -12.755      0.000      -0.028      -0.020\n",
      "avg_rating_by_driver      -0.0340      0.016     -2.077      0.038      -0.066      -0.002\n",
      "avg_rating_of_driver      -0.0178      0.015     -1.200      0.230      -0.047       0.011\n",
      "avg_surge                 -0.2075      0.063     -3.311      0.001      -0.330      -0.085\n",
      "surge_pct                  0.0022      0.001      3.018      0.003       0.001       0.004\n",
      "trips_in_first_30_days     0.1488      0.004     39.476      0.000       0.141       0.156\n",
      "weekday_pct            -5.977e-05      0.000     -0.229      0.819      -0.001       0.000\n",
      "active                    -0.4383      0.023    -18.704      0.000      -0.484      -0.392\n",
      "==========================================================================================\n"
     ]
    }
   ],
   "source": [
    "# run Logit with X_withweather\n",
    "logit_model = sm.Logit(y,X)\n",
    "result = logit_model.fit()\n",
    "print(result.summary())"
   ]
  },
  {
   "cell_type": "markdown",
   "metadata": {},
   "source": [
    "We can see that the statistically significant variables (p-value smaller than .05) to the model are avg_dist, avg_rating_by_driver, avg_surge, surge_pct, trips_in_first_30_days, and active."
   ]
  },
  {
   "cell_type": "code",
   "execution_count": 513,
   "metadata": {},
   "outputs": [
    {
     "name": "stdout",
     "output_type": "stream",
     "text": [
      "Accuracy of logistic regression classifier on test set: 0.658\n"
     ]
    }
   ],
   "source": [
    "# run LogisticRegression\n",
    "X_train, X_test, y_train, y_test = train_test_split(X, y, test_size=0.3, random_state=10)\n",
    "logreg = LogisticRegression()\n",
    "logreg.fit(X_train, y_train)\n",
    "\n",
    "y_pred = logreg.predict(X_test)\n",
    "print('Accuracy of logistic regression classifier on test set: {:.3f}'.format(logreg.score(X_test, y_test)))"
   ]
  },
  {
   "cell_type": "code",
   "execution_count": 514,
   "metadata": {},
   "outputs": [
    {
     "name": "stdout",
     "output_type": "stream",
     "text": [
      "10-fold cross validation average accuracy: 0.660\n"
     ]
    }
   ],
   "source": [
    "# cross validation\n",
    "kfold = model_selection.KFold(n_splits=10, random_state=10)\n",
    "modelCV = LogisticRegression()\n",
    "scoring = 'accuracy'\n",
    "results = model_selection.cross_val_score(modelCV, X_train, y_train, cv=kfold, scoring=scoring)\n",
    "print(\"10-fold cross validation average accuracy: %.3f\" % (results.mean()))"
   ]
  },
  {
   "cell_type": "code",
   "execution_count": 515,
   "metadata": {},
   "outputs": [
    {
     "data": {
      "text/plain": [
       "array([0.652     , 0.67571429, 0.65057143, 0.66257143, 0.64885714,\n",
       "       0.66085714, 0.66142857, 0.65714286, 0.66171429, 0.66971429])"
      ]
     },
     "execution_count": 515,
     "metadata": {},
     "output_type": "execute_result"
    }
   ],
   "source": [
    "# display all cross validation results\n",
    "results"
   ]
  },
  {
   "cell_type": "code",
   "execution_count": 516,
   "metadata": {},
   "outputs": [
    {
     "name": "stdout",
     "output_type": "stream",
     "text": [
      "[[9060  381]\n",
      " [4754  805]]\n"
     ]
    }
   ],
   "source": [
    "# build confusion matrix\n",
    "confusion_matrix = confusion_matrix(y_test, y_pred)\n",
    "print(confusion_matrix)"
   ]
  },
  {
   "cell_type": "code",
   "execution_count": 517,
   "metadata": {},
   "outputs": [
    {
     "name": "stdout",
     "output_type": "stream",
     "text": [
      "             precision    recall  f1-score   support\n",
      "\n",
      "          0       0.66      0.96      0.78      9441\n",
      "          1       0.68      0.14      0.24      5559\n",
      "\n",
      "avg / total       0.66      0.66      0.58     15000\n",
      "\n"
     ]
    }
   ],
   "source": [
    "# print precision and recall\n",
    "print(classification_report(y_test, y_pred))"
   ]
  },
  {
   "cell_type": "code",
   "execution_count": 518,
   "metadata": {},
   "outputs": [
    {
     "data": {
      "text/plain": [
       "array([[-2.49090617e-02, -4.09147533e-02, -4.65449009e-02,\n",
       "        -2.40749392e-01,  3.16614419e-03,  1.46646324e-01,\n",
       "         3.06366504e-05, -4.43387048e-01]])"
      ]
     },
     "execution_count": 518,
     "metadata": {},
     "output_type": "execute_result"
    }
   ],
   "source": [
    "logreg.coef_"
   ]
  },
  {
   "cell_type": "code",
   "execution_count": 519,
   "metadata": {},
   "outputs": [
    {
     "data": {
      "image/png": "[encoded data removed]",
      "text/plain": [
       "<matplotlib.figure.Figure at 0x123887e10>"
      ]
     },
     "metadata": {},
     "output_type": "display_data"
    }
   ],
   "source": [
    "logit_roc_auc = roc_auc_score(y_test, logreg.predict(X_test))\n",
    "fpr, tpr, thresholds = roc_curve(y_test, logreg.predict_proba(X_test)[:,1])\n",
    "_ = plt.figure(figsize=(8,6))\n",
    "_ = plt.plot(fpr, tpr, label='Logistic Regression (area = %0.2f)' % logit_roc_auc)\n",
    "_ = plt.plot([0, 1], [0, 1],'--')\n",
    "_ = plt.xlim([0.0, 1.0])\n",
    "_ = plt.ylim([0.0, 1.0])\n",
    "_ = plt.xlabel('False Positive Rate')\n",
    "_ = plt.ylabel('True Positive Rate')\n",
    "_ = plt.title('Receiver Operating Characteristic')\n",
    "_ = plt.legend(loc=\"lower right\")\n",
    "plt.show()"
   ]
  },
  {
   "cell_type": "markdown",
   "metadata": {},
   "source": [
    "The larger the area under the ROC curve, the better fit our model is. An area of 0.50 establishes that a model has no ability to classify the outcome of the test set correctly. Our ROC of 0.58 is only slightly larger than 0.50, so our model isn't that great of a fit. But the accuracy of our logistic regression classifier was 66.9% and increased to 67.3% with cross-validation. Our model also has an average precision of 66% and average recall of 67%. These metrics are relatively high and help to validate our model."
   ]
  },
  {
   "cell_type": "markdown",
   "metadata": {},
   "source": [
    "### Insights and Strategy\n",
    "\n",
    "There are some insights to be gained from the predictive model built here. Of the 8 variables tested, 6 of them were statistically significant. Calculating the log-likelihoods from their coefficients will tell us how we could take action in retaining more riders. For example, if it's more likely that riders return when the average distance traveled is short, then perhaps there needs to be more drivers available to drive people these short distances and pick them up quickly. Perhaps more users will be retained if they know that they can quickly get a driver to take them the short distance they need to travel over. "
   ]
  },
  {
   "cell_type": "code",
   "execution_count": null,
   "metadata": {
    "collapsed": true
   },
   "outputs": [],
   "source": []
  }
 ],
 "metadata": {
  "kernelspec": {
   "display_name": "Python 3",
   "language": "python",
   "name": "python3"
  },
  "language_info": {
   "codemirror_mode": {
    "name": "ipython",
    "version": 3
   },
   "file_extension": ".py",
   "mimetype": "text/x-python",
   "name": "python",
   "nbconvert_exporter": "python",
   "pygments_lexer": "ipython3",
   "version": "3.6.2"
  }
 },
 "nbformat": 4,
 "nbformat_minor": 2
}
