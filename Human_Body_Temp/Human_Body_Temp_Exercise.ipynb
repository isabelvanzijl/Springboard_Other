{
 "cells": [
  {
   "cell_type": "markdown",
   "metadata": {},
   "source": [
    "# What is the True Normal Human Body Temperature? \n",
    "\n",
    "#### Background\n",
    "\n",
    "The mean normal body temperature was held to be 37$^{\\circ}$C or 98.6$^{\\circ}$F for more than 120 years since it was first conceptualized and reported by Carl Wunderlich in a famous 1868 book. But, is this value statistically correct?"
   ]
  },
  {
   "cell_type": "markdown",
   "metadata": {},
   "source": [
    "<h3>Exercises</h3>\n",
    "\n",
    "<p>In this exercise, you will analyze a dataset of human body temperatures and employ the concepts of hypothesis testing, confidence intervals, and statistical significance.</p>\n",
    "\n",
    "<p>Answer the following questions <b>in this notebook below and submit to your Github account</b>.</p> \n",
    "\n",
    "<ol>\n",
    "<li>  Is the distribution of body temperatures normal? \n",
    "    <ul>\n",
    "    <li> Although this is not a requirement for CLT to hold (read CLT carefully), it gives us some peace of mind that the population may also be normally distributed if we assume that this sample is representative of the population.\n",
    "    </ul>\n",
    "<li>  Is the sample size large? Are the observations independent?\n",
    "    <ul>\n",
    "    <li> Remember that this is a condition for the CLT, and hence the statistical tests we are using, to apply.\n",
    "    </ul>\n",
    "<li>  Is the true population mean really 98.6 degrees F?\n",
    "    <ul>\n",
    "    <li> Would you use a one-sample or two-sample test? Why?\n",
    "    <li> In this situation, is it appropriate to use the $t$ or $z$ statistic? \n",
    "    <li> Now try using the other test. How is the result be different? Why?\n",
    "    </ul>\n",
    "<li>  Draw a small sample of size 10 from the data and repeat both tests. \n",
    "    <ul>\n",
    "    <li> Which one is the correct one to use? \n",
    "    <li> What do you notice? What does this tell you about the difference in application of the $t$ and $z$ statistic?\n",
    "    </ul>\n",
    "<li>  At what temperature should we consider someone's temperature to be \"abnormal\"?\n",
    "    <ul>\n",
    "    <li> Start by computing the margin of error and confidence interval.\n",
    "    </ul>\n",
    "<li>  Is there a significant difference between males and females in normal temperature?\n",
    "    <ul>\n",
    "    <li> What test did you use and why?\n",
    "    <li> Write a story with your conclusion in the context of the original problem.\n",
    "    </ul>\n",
    "</ol>\n",
    "\n",
    "You can include written notes in notebook cells using Markdown: \n",
    "   - In the control panel at the top, choose Cell > Cell Type > Markdown\n",
    "   - Markdown syntax: http://nestacms.com/docs/creating-content/markdown-cheat-sheet\n",
    "\n",
    "#### Resources\n",
    "\n",
    "+ Information and data sources: http://www.amstat.org/publications/jse/datasets/normtemp.txt, http://www.amstat.org/publications/jse/jse_data_archive.htm\n",
    "+ Markdown syntax: http://nestacms.com/docs/creating-content/markdown-cheat-sheet\n",
    "\n",
    "****"
   ]
  },
  {
   "cell_type": "code",
   "execution_count": 466,
   "metadata": {},
   "outputs": [
    {
     "data": {
      "text/html": [
       "<div>\n",
       "<style>\n",
       "    .dataframe thead tr:only-child th {\n",
       "        text-align: right;\n",
       "    }\n",
       "\n",
       "    .dataframe thead th {\n",
       "        text-align: left;\n",
       "    }\n",
       "\n",
       "    .dataframe tbody tr th {\n",
       "        vertical-align: top;\n",
       "    }\n",
       "</style>\n",
       "<table border=\"1\" class=\"dataframe\">\n",
       "  <thead>\n",
       "    <tr style=\"text-align: right;\">\n",
       "      <th></th>\n",
       "      <th>temperature</th>\n",
       "      <th>gender</th>\n",
       "      <th>heart_rate</th>\n",
       "    </tr>\n",
       "  </thead>\n",
       "  <tbody>\n",
       "    <tr>\n",
       "      <th>0</th>\n",
       "      <td>99.3</td>\n",
       "      <td>F</td>\n",
       "      <td>68.0</td>\n",
       "    </tr>\n",
       "    <tr>\n",
       "      <th>1</th>\n",
       "      <td>98.4</td>\n",
       "      <td>F</td>\n",
       "      <td>81.0</td>\n",
       "    </tr>\n",
       "    <tr>\n",
       "      <th>2</th>\n",
       "      <td>97.8</td>\n",
       "      <td>M</td>\n",
       "      <td>73.0</td>\n",
       "    </tr>\n",
       "    <tr>\n",
       "      <th>3</th>\n",
       "      <td>99.2</td>\n",
       "      <td>F</td>\n",
       "      <td>66.0</td>\n",
       "    </tr>\n",
       "    <tr>\n",
       "      <th>4</th>\n",
       "      <td>98.0</td>\n",
       "      <td>F</td>\n",
       "      <td>73.0</td>\n",
       "    </tr>\n",
       "  </tbody>\n",
       "</table>\n",
       "</div>"
      ],
      "text/plain": [
       "   temperature gender  heart_rate\n",
       "0         99.3      F        68.0\n",
       "1         98.4      F        81.0\n",
       "2         97.8      M        73.0\n",
       "3         99.2      F        66.0\n",
       "4         98.0      F        73.0"
      ]
     },
     "execution_count": 466,
     "metadata": {},
     "output_type": "execute_result"
    }
   ],
   "source": [
    "# import packages\n",
    "import pandas as pd\n",
    "import numpy as np\n",
    "import matplotlib.pyplot as plt\n",
    "from scipy import stats\n",
    "\n",
    "# read the csv file in as a dataframe\n",
    "df = pd.read_csv('human_body_temperature.csv')\n",
    "\n",
    "# display contents using .head()\n",
    "df.head()"
   ]
  },
  {
   "cell_type": "markdown",
   "metadata": {},
   "source": [
    "# 1. Is the distribution of body temperatures normal?"
   ]
  },
  {
   "cell_type": "code",
   "execution_count": 467,
   "metadata": {},
   "outputs": [
    {
     "name": "stdout",
     "output_type": "stream",
     "text": [
      "Shape of dataframe:  (130, 3)\n"
     ]
    }
   ],
   "source": [
    "# print shape of dataframe\n",
    "print('Shape of dataframe: ', df.shape)"
   ]
  },
  {
   "cell_type": "markdown",
   "metadata": {},
   "source": [
    "We only have 130 records in our dataframe. Although our analysis would be better with a larger data set, 130 records is an acceptable number of observations under the Central Limit Theorem (CLT). The CLT states that for 30 observations or more, a $t$ distribution is close enough to a $z$ distribution to effectively be the same. We can then assume under the CLT that with over 30 observations, we have a sufficient amount of data that the observations should follow a normal distribution."
   ]
  },
  {
   "cell_type": "code",
   "execution_count": 468,
   "metadata": {},
   "outputs": [
    {
     "data": {
      "image/png": "[encoded data removed]",
      "text/plain": [
       "<matplotlib.figure.Figure at 0x10ccda668>"
      ]
     },
     "metadata": {},
     "output_type": "display_data"
    }
   ],
   "source": [
    "# set size of figures\n",
    "fig = plt.figure(figsize=(8, 10))\n",
    "\n",
    "# plot a histogram with 10 bins\n",
    "plt.subplot(2,1,1)\n",
    "_ = plt.hist(df['temperature'], bins=10, normed=True, color='green')\n",
    "_ = plt.xlabel('Temperature (Degrees F)')\n",
    "_ = plt.ylabel('Frequency')\n",
    "_ = plt.title('Temperature Histogram (10 bins)')\n",
    "_ = plt.margins(.2)\n",
    "\n",
    "# plot a histogram with 20 bins\n",
    "plt.subplot(2,1,2)\n",
    "_ = plt.hist(df['temperature'], bins=20, normed=True, color='purple')\n",
    "_ = plt.xlabel('Temperature (Degrees F)')\n",
    "_ = plt.ylabel('Frequency')\n",
    "_ = plt.title('Temperature Histogram (20 bins)')\n",
    "_ = plt.margins(.2)\n",
    "\n",
    "# display the histograms\n",
    "plt.show()"
   ]
  },
  {
   "cell_type": "markdown",
   "metadata": {},
   "source": [
    "Our histograms aren't perfectly normally distributed, but taking into consideration that we only have 130 observations, our histograms seem to follow a normal distribution somewhat closely. Let's double check the ECDFs of our data and with a sampled normal distribution."
   ]
  },
  {
   "cell_type": "code",
   "execution_count": 469,
   "metadata": {
    "collapsed": true
   },
   "outputs": [],
   "source": [
    "# Sample a normal distribution for comparison\n",
    "sample_normal = np.random.normal(np.mean(df['temperature']), np.std(df['temperature']), size=10000)"
   ]
  },
  {
   "cell_type": "code",
   "execution_count": 470,
   "metadata": {
    "collapsed": true
   },
   "outputs": [],
   "source": [
    "# define ECDF function\n",
    "def ecdf(data):\n",
    "    \"\"\"Compute ECDF for a one-dimensional array of measurements.\"\"\"\n",
    "    # define n, the size of the dataset\n",
    "    n = len(data)\n",
    "    # set x values\n",
    "    x = np.sort(data)\n",
    "    # compute y values\n",
    "    y = np.arange(1, n+1) / n\n",
    "    return x, y"
   ]
  },
  {
   "cell_type": "code",
   "execution_count": 471,
   "metadata": {},
   "outputs": [
    {
     "data": {
      "image/png": "[encoded data removed]",
      "text/plain": [
       "<matplotlib.figure.Figure at 0x1a12dd00f0>"
      ]
     },
     "metadata": {},
     "output_type": "display_data"
    }
   ],
   "source": [
    "# compute the ecdfs of the data and the normal distribution\n",
    "x_temp, y_temp = ecdf(df['temperature'])\n",
    "x_normal, y_normal = ecdf(sample_normal)\n",
    "\n",
    "# plot ECDFs\n",
    "fig = plt.figure(figsize=(8, 5))\n",
    "plt.subplot(1,1,1)\n",
    "_ = plt.plot(x_normal, y_normal)\n",
    "_ = plt.plot(x_temp, y_temp, marker='.', linestyle='none')\n",
    "_ = plt.ylabel('ECDF')\n",
    "_ = plt.xlabel('Temperature (Degrees F)')\n",
    "_ = plt.title('Human Body Temperature ECDFs')\n",
    "_ = plt.legend(('Normal Distribution', 'Body Temperature Data'))\n",
    "\n",
    "# display the plot\n",
    "plt.show()"
   ]
  },
  {
   "cell_type": "markdown",
   "metadata": {},
   "source": [
    "After plotting the ECDF of our normal distribution sample with the ECDF of our results, we can see that the body temperature data pretty closely follows the normal distribution. We can assert that **the body temperature data is normally distributed**"
   ]
  },
  {
   "cell_type": "markdown",
   "metadata": {},
   "source": [
    "# 2. Is the sample size large? Are the observations independent?\n",
    "\n",
    "Our sample size is 130 observations, which is greater than the 30 observations needed for the data to follow the CLT. So yes, the sample size is technically large. The observations are also independent because they are taken from different people."
   ]
  },
  {
   "cell_type": "markdown",
   "metadata": {},
   "source": [
    "# 3. Is the true population mean really 98.6 degrees F?\n",
    "\n",
    "* Would you use a one-sample or two-sample test? Why?\n",
    "* In this situation, is it appropriate to use the  t  or  z  statistic?\n",
    "* Now try using the other test. How is the result be different? Why?\n",
    "\n",
    "We will use a one-sample test because there is only one set of data available and we are comparing it to a single mean. Since the sample size is greater than 30 observations, it's appropriate to use the $z$ statistic (The $t$ statistic is used if there are fewer than 30 observations)."
   ]
  },
  {
   "cell_type": "code",
   "execution_count": 472,
   "metadata": {},
   "outputs": [
    {
     "data": {
      "text/plain": [
       "count    130.000000\n",
       "mean      98.249231\n",
       "std        0.733183\n",
       "min       96.300000\n",
       "25%       97.800000\n",
       "50%       98.300000\n",
       "75%       98.700000\n",
       "max      100.800000\n",
       "Name: temperature, dtype: float64"
      ]
     },
     "execution_count": 472,
     "metadata": {},
     "output_type": "execute_result"
    }
   ],
   "source": [
    "# calculate and print sample statistics\n",
    "df['temperature'].describe()"
   ]
  },
  {
   "cell_type": "markdown",
   "metadata": {},
   "source": [
    "We will apply bootstrapping to test whether the the mean of the bootstrap sample and the mean of the data (98.6) are equal to each other."
   ]
  },
  {
   "cell_type": "code",
   "execution_count": 473,
   "metadata": {},
   "outputs": [
    {
     "name": "stdout",
     "output_type": "stream",
     "text": [
      "p =  0.0\n"
     ]
    }
   ],
   "source": [
    "# calculate p value using 10,000 bootstrap replicates\n",
    "size=10000\n",
    "\n",
    "# initiate empty bootstrap replicates array\n",
    "bs_reps = np.empty(size)\n",
    "\n",
    "# fill the boostrap replicates array\n",
    "for i in range(size):\n",
    "    bs_sample = np.random.choice(df['temperature'],len(df['temperature']))\n",
    "    bs_reps[i] = np.mean(bs_sample)\n",
    "\n",
    "# calculate p value\n",
    "p = np.sum(bs_reps >= 98.6) / len(bs_reps)\n",
    "print('p = ', p)"
   ]
  },
  {
   "cell_type": "markdown",
   "metadata": {},
   "source": [
    "The p value is 0.0 after creating 10,000 bootstrap replicates. Let's see if it makes a difference if we take 100,000 bootstrap samples instead of 10,000."
   ]
  },
  {
   "cell_type": "code",
   "execution_count": 474,
   "metadata": {},
   "outputs": [
    {
     "name": "stdout",
     "output_type": "stream",
     "text": [
      "p =  0.0\n"
     ]
    }
   ],
   "source": [
    "# calculate p value using 100,000 bootstrap replicates\n",
    "size=100000\n",
    "\n",
    "# initiate empty bootstrap replicates array\n",
    "bs_reps = np.empty(size)\n",
    "\n",
    "# fill the boostrap replicates array\n",
    "for i in range(size):\n",
    "    bs_sample = np.random.choice(df['temperature'],len(df['temperature']))\n",
    "    bs_reps[i] = np.mean(bs_sample)\n",
    "\n",
    "# calculate p value\n",
    "p = np.sum(bs_reps >= 98.6) / len(bs_reps)\n",
    "print('p = ', p)"
   ]
  },
  {
   "cell_type": "markdown",
   "metadata": {},
   "source": [
    "We still get a p value of 0.0. The p value is still so low even after taking ten times as many samples, which signals that the true mean isn't 98.6.\n",
    "\n",
    "Since we have more than 30 samples, it's appropriate to use the $z$ statistic. We will find the $z$ score using the following equation:\n",
    "\n",
    "$z$ = (sample mean - population mean) / population stdev\n",
    "\n",
    "Since we don't know the population standard deviation, we will estimate it using this formula:\n",
    "\n",
    "population standard deviation $\\approx$ sample standard deviation / sqrt(n)\n",
    "\n",
    "where n is the size of the sample."
   ]
  },
  {
   "cell_type": "code",
   "execution_count": 475,
   "metadata": {},
   "outputs": [
    {
     "name": "stdout",
     "output_type": "stream",
     "text": [
      "z =  -5.476\n"
     ]
    }
   ],
   "source": [
    "# calculate the z score\n",
    "z = (np.mean(df['temperature']) - 98.6) / (np.std(df['temperature']) / np.sqrt(len(df['temperature'])))\n",
    "print('z = ', round(z,3))"
   ]
  },
  {
   "cell_type": "code",
   "execution_count": 476,
   "metadata": {},
   "outputs": [
    {
     "name": "stdout",
     "output_type": "stream",
     "text": [
      "p = p( z <=  -5.476 ) + p( z >=  5.476 ) =  0.0\n",
      "p (unrounded) is  4.35231516588e-08\n"
     ]
    }
   ],
   "source": [
    "# perform two sided z test\n",
    "p_z = stats.norm.sf(abs(z)) * 2\n",
    "print('p = p( z <= ', round(z,3), ') + p( z >= ', abs(round(z,3)), ') = ', round(p_z,3))\n",
    "print('p (unrounded) is ', p_z)"
   ]
  },
  {
   "cell_type": "markdown",
   "metadata": {},
   "source": [
    "We essentially get a p value of zero, signaling that it's highly unlikely that the true mean is 98.6.\n",
    "\n",
    "Next, we'll find the $t$ statistic and compare it to the $z$ test. The $t$ score is calculated using the same equation as the $z$ score. Since our sample standard deviation is equal to our estimated population standard deviation, we can simply set $t$ equal to $z$ to start."
   ]
  },
  {
   "cell_type": "code",
   "execution_count": 477,
   "metadata": {},
   "outputs": [
    {
     "name": "stdout",
     "output_type": "stream",
     "text": [
      "t =  -5.476\n"
     ]
    }
   ],
   "source": [
    "# set t equal to z for the t score\n",
    "t = z\n",
    "print('t = ', round(t,3))"
   ]
  },
  {
   "cell_type": "code",
   "execution_count": 478,
   "metadata": {},
   "outputs": [
    {
     "name": "stdout",
     "output_type": "stream",
     "text": [
      "p = p( t <=  -5.476 ) + p( t >=  5.476 ) =  0.0\n",
      "p (unrounded) is  2.18874646241e-07\n"
     ]
    }
   ],
   "source": [
    "# perform two sided t test\n",
    "p_t = stats.t.sf(abs(t), len(df['temperature'])-1) * 2\n",
    "print('p = p( t <= ', round(t,3), ') + p( t >= ', abs(round(t,3)), ') = ', round(p_t,3))\n",
    "print('p (unrounded) is ', p_t)"
   ]
  },
  {
   "cell_type": "markdown",
   "metadata": {},
   "source": [
    "The $t$ and $z$ tests yield different p values, but both essentially yield p values of zero, confirming that **the true mean is not likely to be 98.6. **"
   ]
  },
  {
   "cell_type": "markdown",
   "metadata": {},
   "source": [
    "# 4. Draw a small sample of size 10 from the data and repeat both tests.\n",
    "\n",
    "* Which one is the correct one to use?\n",
    "* What do you notice? What does this tell you about the difference in application of the  t  and  z  statistic?\n",
    "\n",
    "Now that our sample size will be 10 observations, we will have to use the $t$ test to get an accurate p value."
   ]
  },
  {
   "cell_type": "code",
   "execution_count": 479,
   "metadata": {},
   "outputs": [
    {
     "name": "stdout",
     "output_type": "stream",
     "text": [
      "Sample:  [ 98.1  99.2  99.2  98.8  98.6  98.7  98.1  98.   98.4  96.8]\n"
     ]
    }
   ],
   "source": [
    "# draw a random sample of 10 temperatures\n",
    "sample = np.random.choice(df['temperature'], size=10)\n",
    "print('Sample: ', sample)"
   ]
  },
  {
   "cell_type": "code",
   "execution_count": 480,
   "metadata": {},
   "outputs": [
    {
     "name": "stdout",
     "output_type": "stream",
     "text": [
      "t =  -0.99337703888\n",
      "p = p( t <=  -0.993 ) + p( t >=  0.993 ) =  0.346\n"
     ]
    }
   ],
   "source": [
    "# calculate the t score\n",
    "t2 = (np.mean(sample) - 98.6) / (np.std(sample) / np.sqrt(len(sample)))\n",
    "print('t = ', t2)\n",
    "\n",
    "# perform two sided t test\n",
    "p_t2 = stats.t.sf(abs(t2),len(sample)-1) * 2\n",
    "print('p = p( t <= ', round(t2,3), ') + p( t >= ', abs(round(t2,3)), ') = ', round(p_t2,3))"
   ]
  },
  {
   "cell_type": "markdown",
   "metadata": {},
   "source": [
    "To compare, let's also perform a $z$ test. "
   ]
  },
  {
   "cell_type": "code",
   "execution_count": 481,
   "metadata": {},
   "outputs": [
    {
     "name": "stdout",
     "output_type": "stream",
     "text": [
      "z =  -0.909250682085\n",
      "p = p( z <=  -0.909 ) + p( z >=  0.909 ) =  0.363\n",
      "p (unrounded) is  0.363217816855\n"
     ]
    }
   ],
   "source": [
    "# calculate the z score\n",
    "z2 = (np.mean(sample) - 98.6) / (np.std(df['temperature']) / np.sqrt(len(sample)))\n",
    "print('z = ', z2)\n",
    "\n",
    "# perform two sided z test\n",
    "p_z2 = stats.norm.sf(abs(z2)) * 2\n",
    "print('p = p( z <= ', round(z2,3), ') + p( z >= ', abs(round(z2,3)), ') = ', round(p_z2,3))\n",
    "print('p (unrounded) is ', p_z2)"
   ]
  },
  {
   "cell_type": "markdown",
   "metadata": {},
   "source": [
    "Our p values for the $z$ statistic and $t$ statistic are significantly different. This tells us that it's important to use the correct test statistic based on the sample size. Both can be appropriate for larger samples, but for sample sizes smaller than 30, it's better to use the $t$ test."
   ]
  },
  {
   "cell_type": "markdown",
   "metadata": {},
   "source": [
    "# 5. At what temperature should we consider someone's temperature to be \"abnormal\"?\n",
    "\n",
    "* Start by computing the margin of error and confidence interval.\n",
    "\n",
    "For this question, we're going to use a 95% confidence interval to test whether someone's temperature is \"abnormal\"."
   ]
  },
  {
   "cell_type": "code",
   "execution_count": 482,
   "metadata": {},
   "outputs": [
    {
     "name": "stdout",
     "output_type": "stream",
     "text": [
      "The mean temperature for our data is approximately 98.249 degrees F\n",
      "The margin of error is approximately 0.126  degrees F\n",
      "95% confidence interval:  [98.123679804428193, 98.374781734033363]\n"
     ]
    }
   ],
   "source": [
    "# display mean temperature\n",
    "mean_temp = np.mean(df['temperature'])\n",
    "print('The mean temperature for our data is approximately', round(mean_temp,3), 'degrees F')\n",
    "\n",
    "# set z_critical variable for 95% confidence interval\n",
    "z_critical = 1.96\n",
    "\n",
    "# calculate margin of error\n",
    "margin_error = z_critical * np.std(df['temperature']) / np.sqrt(len(df['temperature']))\n",
    "\n",
    "# print resulting margin of error\n",
    "print('The margin of error is approximately', round(margin_error,3), ' degrees F')\n",
    "\n",
    "# calculate and print 95% confidence interval\n",
    "conf_int = [mean_temp - margin_error, mean_temp + margin_error]\n",
    "print('95% confidence interval: ', conf_int)"
   ]
  },
  {
   "cell_type": "markdown",
   "metadata": {},
   "source": [
    "Any temperature **less than 98.124 degrees F or greater than 98.375 degrees F should be considered abnormal.**"
   ]
  },
  {
   "cell_type": "markdown",
   "metadata": {},
   "source": [
    "# 6. Is there a significant difference between males and females in normal temperature?\n",
    "\n",
    "* What test did you use and why?\n",
    "* Write a story with your conclusion in the context of the original problem."
   ]
  },
  {
   "cell_type": "code",
   "execution_count": 483,
   "metadata": {},
   "outputs": [
    {
     "name": "stdout",
     "output_type": "stream",
     "text": [
      "Male Sample Statistics:\n",
      "count    65.000000\n",
      "mean     98.104615\n",
      "std       0.698756\n",
      "min      96.300000\n",
      "25%      97.600000\n",
      "50%      98.100000\n",
      "75%      98.600000\n",
      "max      99.500000\n",
      "Name: temperature, dtype: float64 \n",
      "\n",
      "Female Sample Statistics:\n",
      "count     65.000000\n",
      "mean      98.393846\n",
      "std        0.743488\n",
      "min       96.400000\n",
      "25%       98.000000\n",
      "50%       98.400000\n",
      "75%       98.800000\n",
      "max      100.800000\n",
      "Name: temperature, dtype: float64 \n",
      "\n",
      "Difference between mean male temperature and mean female temperature: 0.289 degrees F\n"
     ]
    }
   ],
   "source": [
    "# extract male and female temperatures\n",
    "male_temp = df[df['gender'] == 'M']['temperature']\n",
    "female_temp = df[df['gender'] == 'F']['temperature']\n",
    "\n",
    "# display sample statistics for both male and female\n",
    "print('Male Sample Statistics:')\n",
    "print(male_temp.describe(), '\\n')\n",
    "print('Female Sample Statistics:')\n",
    "print(female_temp.describe(), '\\n')\n",
    "\n",
    "# calculate and display difference in means for male and female temperatures\n",
    "print('Difference between mean male temperature and mean female temperature:', \n",
    "      round(abs(np.mean(male_temp) - np.mean(female_temp)), 3), 'degrees F')"
   ]
  },
  {
   "cell_type": "code",
   "execution_count": 484,
   "metadata": {},
   "outputs": [
    {
     "data": {
      "image/png": "[encoded data removed]",
      "text/plain": [
       "<matplotlib.figure.Figure at 0x1a12d05518>"
      ]
     },
     "metadata": {},
     "output_type": "display_data"
    }
   ],
   "source": [
    "# compute ECDFs\n",
    "x_male, y_male = ecdf(male_temp)\n",
    "x_female, y_female = ecdf(female_temp)\n",
    "\n",
    "# plot ECDFs\n",
    "fig = plt.figure(figsize=(8, 5))\n",
    "_ = plt.plot(x_male, y_male, marker='.', linestyle='none', color='blue')\n",
    "_ = plt.plot(x_female, y_female, marker='.', linestyle='none', color='pink')\n",
    "_ = plt.ylabel('ECDF')\n",
    "_ = plt.xlabel('Temperature (Degrees F)')\n",
    "_ = plt.title('Male and Female Body Temperatures')\n",
    "_ = plt.legend(('Male', 'Female'), loc=4)\n",
    "plt.show()"
   ]
  },
  {
   "cell_type": "markdown",
   "metadata": {},
   "source": [
    "There is a clear difference in the male and female temperature distributions. Male temperatures tend skew lower than female temperatures with a difference of 0.289 degrees F between their sample means.\n",
    "\n",
    "To see if there's a significant difference between male and female body temperatures, we will use a **two sample permutation test**. Permutation tests are useful when testing whether two sets of data have identical probability distributions.\n",
    "\n",
    "*Null hypothesis: there is no difference in the means and distributions of male and female body temperatures.*"
   ]
  },
  {
   "cell_type": "code",
   "execution_count": 485,
   "metadata": {
    "collapsed": true
   },
   "outputs": [],
   "source": [
    "# define diff_of_means function\n",
    "def diff_of_means(data_1, data_2):\n",
    "    \"\"\"Difference in means of two arrays.\"\"\"\n",
    "    # The difference of means of data_1, data_2: diff\n",
    "    diff = abs(np.mean(data_1) - np.mean(data_2))\n",
    "    # return the difference\n",
    "    return diff"
   ]
  },
  {
   "cell_type": "code",
   "execution_count": 486,
   "metadata": {},
   "outputs": [
    {
     "name": "stdout",
     "output_type": "stream",
     "text": [
      "Observed difference:  0.289 degrees F\n",
      "p value:  0.024\n"
     ]
    }
   ],
   "source": [
    "# compute difference in means of male and female body temperatures\n",
    "diff_observed = diff_of_means(male_temp, female_temp)\n",
    "\n",
    "# initiate empty permutation replicates array\n",
    "size = 100000\n",
    "perm_reps = np.empty(size)\n",
    "\n",
    "# fill the permutation replicates array\n",
    "for i in range(size):\n",
    "    concat_perm_temp = np.random.permutation(np.concatenate((male_temp, female_temp)))\n",
    "    male_perm = concat_perm_temp[:len(male_temp)]\n",
    "    female_perm = concat_perm_temp[len(male_temp):]\n",
    "    perm_reps[i] = diff_of_means(male_perm, female_perm)\n",
    "    \n",
    "# compute the p value\n",
    "p = np.sum(perm_reps >= diff_observed) / len(perm_reps)\n",
    "\n",
    "# print out results\n",
    "print('Observed difference: ', round(diff_observed, 3), 'degrees F' )\n",
    "print('p value: ', round(p, 3))"
   ]
  },
  {
   "cell_type": "markdown",
   "metadata": {},
   "source": [
    "Since our p value is less than 0.05 (the cutoff value for significance), **we reject the null hypothesis** that there is no difference in the means and distributions of male and female body temperatures. **There is indeed a significant difference between the means and distributions of our male and female body temperatures.**"
   ]
  },
  {
   "cell_type": "markdown",
   "metadata": {},
   "source": [
    "# Conclusions\n",
    "\n",
    "In his 1868 book, Carl Wunderlich first conceptualized and reported that the mean normal body temperature was 37 degrees C or 98.6 degrees F. After performing some statistical tests of our own, we've come to the conclusion that this value is not accurate. Based on a sample of 130 observations, we estimated the mean human body temperature to be 98.2 degrees F and we're 95% confident that the mean lies in the interval of [96.7, 99.5] degrees F (95% confidence interval). In addition to this, we discovered that male and female body temperatures are significantly different and that women tend to have higher body temperatures than men."
   ]
  },
  {
   "cell_type": "code",
   "execution_count": null,
   "metadata": {
    "collapsed": true
   },
   "outputs": [],
   "source": []
  }
 ],
 "metadata": {
  "kernelspec": {
   "display_name": "Python 3",
   "language": "python",
   "name": "python3"
  },
  "language_info": {
   "codemirror_mode": {
    "name": "ipython",
    "version": 3
   },
   "file_extension": ".py",
   "mimetype": "text/x-python",
   "name": "python",
   "nbconvert_exporter": "python",
   "pygments_lexer": "ipython3",
   "version": "3.6.2"
  }
 },
 "nbformat": 4,
 "nbformat_minor": 1
}
